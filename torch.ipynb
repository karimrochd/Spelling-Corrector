{
 "cells": [
  {
   "cell_type": "code",
   "execution_count": 2,
   "metadata": {},
   "outputs": [
    {
     "name": "stderr",
     "output_type": "stream",
     "text": [
      "2025-02-10 14:38:51.079113: E external/local_xla/xla/stream_executor/cuda/cuda_fft.cc:477] Unable to register cuFFT factory: Attempting to register factory for plugin cuFFT when one has already been registered\n",
      "WARNING: All log messages before absl::InitializeLog() is called are written to STDERR\n",
      "E0000 00:00:1739194731.145880  100786 cuda_dnn.cc:8310] Unable to register cuDNN factory: Attempting to register factory for plugin cuDNN when one has already been registered\n",
      "E0000 00:00:1739194731.166153  100786 cuda_blas.cc:1418] Unable to register cuBLAS factory: Attempting to register factory for plugin cuBLAS when one has already been registered\n",
      "2025-02-10 14:38:51.302023: I tensorflow/core/platform/cpu_feature_guard.cc:210] This TensorFlow binary is optimized to use available CPU instructions in performance-critical operations.\n",
      "To enable the following instructions: AVX2 FMA, in other operations, rebuild TensorFlow with the appropriate compiler flags.\n"
     ]
    },
    {
     "data": {
      "application/vnd.jupyter.widget-view+json": {
       "model_id": "99fd254e69474cefa0e664564914f25e",
       "version_major": 2,
       "version_minor": 0
      },
      "text/plain": [
       "tokenizer_config.json:   0%|          | 0.00/48.0 [00:00<?, ?B/s]"
      ]
     },
     "metadata": {},
     "output_type": "display_data"
    },
    {
     "data": {
      "application/vnd.jupyter.widget-view+json": {
       "model_id": "69989b8f41214f9a997a6dc4c30714c8",
       "version_major": 2,
       "version_minor": 0
      },
      "text/plain": [
       "vocab.txt:   0%|          | 0.00/232k [00:00<?, ?B/s]"
      ]
     },
     "metadata": {},
     "output_type": "display_data"
    },
    {
     "data": {
      "application/vnd.jupyter.widget-view+json": {
       "model_id": "0714a9b3bc994c5fb5a75c56ad9aea69",
       "version_major": 2,
       "version_minor": 0
      },
      "text/plain": [
       "tokenizer.json:   0%|          | 0.00/466k [00:00<?, ?B/s]"
      ]
     },
     "metadata": {},
     "output_type": "display_data"
    },
    {
     "data": {
      "application/vnd.jupyter.widget-view+json": {
       "model_id": "998dcc3c71e64afe8b46716049d00098",
       "version_major": 2,
       "version_minor": 0
      },
      "text/plain": [
       "config.json:   0%|          | 0.00/570 [00:00<?, ?B/s]"
      ]
     },
     "metadata": {},
     "output_type": "display_data"
    },
    {
     "data": {
      "application/vnd.jupyter.widget-view+json": {
       "model_id": "b11a87f541874a0eabd2a24c4398163a",
       "version_major": 2,
       "version_minor": 0
      },
      "text/plain": [
       "model.safetensors:   0%|          | 0.00/440M [00:00<?, ?B/s]"
      ]
     },
     "metadata": {},
     "output_type": "display_data"
    },
    {
     "ename": "",
     "evalue": "",
     "output_type": "error",
     "traceback": [
      "\u001b[1;31mThe Kernel crashed while executing code in the current cell or a previous cell. \n",
      "\u001b[1;31mPlease review the code in the cell(s) to identify a possible cause of the failure. \n",
      "\u001b[1;31mClick <a href='https://aka.ms/vscodeJupyterKernelCrash'>here</a> for more info. \n",
      "\u001b[1;31mView Jupyter <a href='command:jupyter.viewOutput'>log</a> for further details."
     ]
    }
   ],
   "source": [
    "import torch\n",
    "import torch.nn as nn\n",
    "from torch.utils.data import Dataset, DataLoader\n",
    "from transformers import BertTokenizer, BertModel\n",
    "import json\n",
    "\n",
    "class SpellingDataset(Dataset):\n",
    "    def __init__(self, spelling_dict, tokenizer, max_length=128):\n",
    "        self.pairs = []\n",
    "        for correct, misspellings in spelling_dict.items():\n",
    "            for misspelling in misspellings:\n",
    "                self.pairs.append((misspelling, correct))\n",
    "        self.tokenizer = tokenizer\n",
    "        self.max_length = max_length\n",
    "\n",
    "    def __len__(self):\n",
    "        return len(self.pairs)\n",
    "\n",
    "    def __getitem__(self, idx):\n",
    "        misspelling, correct = self.pairs[idx]\n",
    "        \n",
    "        misspelling_encoding = self.tokenizer(\n",
    "            misspelling,\n",
    "            padding='max_length',\n",
    "            max_length=self.max_length,\n",
    "            truncation=True,\n",
    "            return_tensors='pt'\n",
    "        )\n",
    "        \n",
    "        correct_encoding = self.tokenizer(\n",
    "            correct,\n",
    "            padding='max_length',\n",
    "            max_length=self.max_length,\n",
    "            truncation=True,\n",
    "            return_tensors='pt'\n",
    "        )\n",
    "        \n",
    "        return {\n",
    "            'input_ids': misspelling_encoding['input_ids'].squeeze(),\n",
    "            'attention_mask': misspelling_encoding['attention_mask'].squeeze(),\n",
    "            'labels': correct_encoding['input_ids'].squeeze()\n",
    "        }\n",
    "\n",
    "class SpellingCorrector(nn.Module):\n",
    "    def __init__(self, vocab_size, hidden_size=768):\n",
    "        super().__init__()\n",
    "        self.bert = BertModel.from_pretrained('bert-base-uncased')\n",
    "        self.decoder = nn.TransformerDecoderLayer(hidden_size, nhead=8)\n",
    "        self.fc = nn.Linear(hidden_size, vocab_size)\n",
    "        \n",
    "    def forward(self, input_ids, attention_mask):\n",
    "        encoder_output = self.bert(input_ids, attention_mask=attention_mask)[0]\n",
    "        decoder_output = self.decoder(encoder_output, encoder_output)\n",
    "        return self.fc(decoder_output)\n",
    "\n",
    "def train_model():\n",
    "    # Load data\n",
    "    with open('spelling_dictionary.json', 'r') as f:\n",
    "        spelling_dict = json.load(f)\n",
    "    \n",
    "    # Initialize tokenizer and model\n",
    "    tokenizer = BertTokenizer.from_pretrained('bert-base-uncased')\n",
    "    model = SpellingCorrector(tokenizer.vocab_size)\n",
    "    \n",
    "    # Create dataset and dataloader\n",
    "    dataset = SpellingDataset(spelling_dict, tokenizer)\n",
    "    dataloader = DataLoader(dataset, batch_size=32, shuffle=True)\n",
    "    \n",
    "    # Training setup\n",
    "    criterion = nn.CrossEntropyLoss(ignore_index=tokenizer.pad_token_id)\n",
    "    optimizer = torch.optim.Adam(model.parameters())\n",
    "    \n",
    "    # Training loop\n",
    "    num_epochs = 10\n",
    "    for epoch in range(num_epochs):\n",
    "        for batch in dataloader:\n",
    "            optimizer.zero_grad()\n",
    "            output = model(batch['input_ids'], batch['attention_mask'])\n",
    "            loss = criterion(output.view(-1, tokenizer.vocab_size), batch['labels'].view(-1))\n",
    "            loss.backward()\n",
    "            optimizer.step()\n",
    "            \n",
    "        print(f\"Epoch {epoch+1}, Loss: {loss.item():.4f}\")\n",
    "    \n",
    "    return model, tokenizer\n",
    "\n",
    "def correct_spelling(model, tokenizer, text):\n",
    "    model.eval()\n",
    "    with torch.no_grad():\n",
    "        inputs = tokenizer(text, return_tensors='pt', padding=True, truncation=True)\n",
    "        outputs = model(inputs['input_ids'], inputs['attention_mask'])\n",
    "        predicted_tokens = torch.argmax(outputs, dim=-1)\n",
    "        corrected_text = tokenizer.decode(predicted_tokens[0], skip_special_tokens=True)\n",
    "    return corrected_text\n",
    "\n",
    "if __name__ == \"__main__\":\n",
    "    model, tokenizer = train_model()\n",
    "    \n",
    "    # Save model\n",
    "    torch.save(model.state_dict(), 'spelling_corrector.pth')\n",
    "    \n",
    "    # Test correction\n",
    "    test_words = [\"recieve\", \"seperate\", \"accomodate\"]\n",
    "    for word in test_words:\n",
    "        corrected = correct_spelling(model, tokenizer, word)\n",
    "        print(f\"{word} -> {corrected}\")"
   ]
  },
  {
   "cell_type": "code",
   "execution_count": null,
   "metadata": {},
   "outputs": [],
   "source": []
  }
 ],
 "metadata": {
  "kernelspec": {
   "display_name": "T1",
   "language": "python",
   "name": "python3"
  },
  "language_info": {
   "codemirror_mode": {
    "name": "ipython",
    "version": 3
   },
   "file_extension": ".py",
   "mimetype": "text/x-python",
   "name": "python",
   "nbconvert_exporter": "python",
   "pygments_lexer": "ipython3",
   "version": "3.12.2"
  }
 },
 "nbformat": 4,
 "nbformat_minor": 2
}
